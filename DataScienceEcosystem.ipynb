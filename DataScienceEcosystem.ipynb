{
 "cells": [
  {
   "cell_type": "markdown",
   "id": "d9482b3e-b908-4e77-89d3-830ef6b3225a",
   "metadata": {},
   "source": [
    "# Data Science Tools and Ecosystem"
   ]
  },
  {
   "cell_type": "markdown",
   "id": "cdb446bd-7910-476d-94ff-12b345ff6177",
   "metadata": {},
   "source": [
    "### In this notebook, Data Science Tools and Ecosystem are summarized."
   ]
  },
  {
   "cell_type": "markdown",
   "id": "99674d5b-7024-480a-8db9-acba337cdd54",
   "metadata": {},
   "source": [
    "#### Some of the popular languages that Data Scientists use are:\n",
    "1. Python\n",
    "2. R\n",
    "3. SQL"
   ]
  },
  {
   "cell_type": "markdown",
   "id": "2c90c8bc-f08f-46d8-87b3-d126fce10c37",
   "metadata": {},
   "source": [
    "### Objectives:\n",
    "- Some of the popular languages\n",
    "- Data Science Tools\n",
    "- Some of the commonly used libraries used"
   ]
  },
  {
   "cell_type": "markdown",
   "id": "53e8a40f-f7a5-4f99-9222-68f1ae3dbb75",
   "metadata": {},
   "source": [
    "#### Some of the commonly used libraries used by Data Scientists include:\n",
    "1. numpy\n",
    "2. pandas\n",
    "3. scikit-learn"
   ]
  },
  {
   "cell_type": "markdown",
   "id": "06d1cf08-c469-4ce2-b2ad-587297468932",
   "metadata": {},
   "source": [
    "| Data Science Tools |\n",
    "| ------------------ |\n",
    "| Jupyter |\n",
    "| RStudio |\n",
    "| Visual Studio |"
   ]
  },
  {
   "cell_type": "markdown",
   "id": "efb0bb5d-aff9-4d22-b3eb-88ab1b0376d3",
   "metadata": {},
   "source": [
    "### Below are a few examples of evaluating arithmetic expressions in Python"
   ]
  },
  {
   "cell_type": "code",
   "execution_count": 1,
   "id": "c86ad896-6a18-48d8-8dd2-0318402d8dd9",
   "metadata": {},
   "outputs": [
    {
     "data": {
      "text/plain": [
       "17"
      ]
     },
     "execution_count": 1,
     "metadata": {},
     "output_type": "execute_result"
    }
   ],
   "source": [
    "(3*4)+5"
   ]
  },
  {
   "cell_type": "code",
   "execution_count": 3,
   "id": "0a244891-8cb6-46b1-8703-b21631e2be38",
   "metadata": {},
   "outputs": [
    {
     "data": {
      "text/plain": [
       "3.3333333333333335"
      ]
     },
     "execution_count": 3,
     "metadata": {},
     "output_type": "execute_result"
    }
   ],
   "source": [
    "hours = 200/60\n",
    "hours"
   ]
  },
  {
   "cell_type": "markdown",
   "id": "e63f13e5-0001-4af5-8e10-0d0af4931c4f",
   "metadata": {},
   "source": [
    "## Author\n",
    "Yilong"
   ]
  },
  {
   "cell_type": "markdown",
   "id": "5de7027f-b142-4860-a55f-88663b41a10a",
   "metadata": {},
   "source": [
    "#### Link: https://github.com/Yilong-Xie/IBM-certificate-practice/blob/main/DataScienceEcosystem.ipynb"
   ]
  }
 ],
 "metadata": {
  "kernelspec": {
   "display_name": "Python 3 (ipykernel)",
   "language": "python",
   "name": "python3"
  },
  "language_info": {
   "codemirror_mode": {
    "name": "ipython",
    "version": 3
   },
   "file_extension": ".py",
   "mimetype": "text/x-python",
   "name": "python",
   "nbconvert_exporter": "python",
   "pygments_lexer": "ipython3",
   "version": "3.11.5"
  }
 },
 "nbformat": 4,
 "nbformat_minor": 5
}
